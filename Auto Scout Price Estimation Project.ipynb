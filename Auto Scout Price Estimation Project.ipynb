{
 "cells": [
  {
   "cell_type": "markdown",
   "metadata": {},
   "source": [
    "# Auto Scout Price Estimation Project with Different Models"
   ]
  },
  {
   "cell_type": "code",
   "execution_count": 1,
   "metadata": {},
   "outputs": [],
   "source": [
    "import pandas as pd\n",
    "import numpy as np\n",
    "import matplotlib.pyplot as plt\n",
    "import seaborn as sns\n",
    "%matplotlib inline\n",
    "plt.style.use('ggplot')"
   ]
  },
  {
   "cell_type": "code",
   "execution_count": 2,
   "metadata": {},
   "outputs": [],
   "source": [
    "df = pd.read_csv('car.csv')"
   ]
  },
  {
   "cell_type": "code",
   "execution_count": 3,
   "metadata": {},
   "outputs": [
    {
     "data": {
      "text/html": [
       "<div>\n",
       "<style scoped>\n",
       "    .dataframe tbody tr th:only-of-type {\n",
       "        vertical-align: middle;\n",
       "    }\n",
       "\n",
       "    .dataframe tbody tr th {\n",
       "        vertical-align: top;\n",
       "    }\n",
       "\n",
       "    .dataframe thead th {\n",
       "        text-align: right;\n",
       "    }\n",
       "</style>\n",
       "<table border=\"1\" class=\"dataframe\">\n",
       "  <thead>\n",
       "    <tr style=\"text-align: right;\">\n",
       "      <th></th>\n",
       "      <th>price</th>\n",
       "      <th>Nr_of_Doors3</th>\n",
       "      <th>Comfort_point3</th>\n",
       "      <th>Nr_of_Seats3</th>\n",
       "      <th>Safety_point3</th>\n",
       "      <th>Entertainment_point3</th>\n",
       "      <th>age3</th>\n",
       "      <th>Extras_point3</th>\n",
       "      <th>Gears3</th>\n",
       "      <th>Cylinders3</th>\n",
       "      <th>...</th>\n",
       "      <th>Body_Color3_White</th>\n",
       "      <th>Body_Color3_Yellow</th>\n",
       "      <th>Upholstery3_Cloth</th>\n",
       "      <th>Upholstery3_Full leather</th>\n",
       "      <th>Upholstery3_Part leather</th>\n",
       "      <th>vat3_Price negotiable</th>\n",
       "      <th>vat3_VAT deductible</th>\n",
       "      <th>Drive_chain3_4WD</th>\n",
       "      <th>Drive_chain3_front</th>\n",
       "      <th>Drive_chain3_rear</th>\n",
       "    </tr>\n",
       "  </thead>\n",
       "  <tbody>\n",
       "    <tr>\n",
       "      <th>0</th>\n",
       "      <td>15770</td>\n",
       "      <td>5.0</td>\n",
       "      <td>16.0</td>\n",
       "      <td>5.0</td>\n",
       "      <td>14.0</td>\n",
       "      <td>4.0</td>\n",
       "      <td>3.917808</td>\n",
       "      <td>3.0</td>\n",
       "      <td>6.0</td>\n",
       "      <td>3.0</td>\n",
       "      <td>...</td>\n",
       "      <td>0</td>\n",
       "      <td>0</td>\n",
       "      <td>1</td>\n",
       "      <td>0</td>\n",
       "      <td>0</td>\n",
       "      <td>0</td>\n",
       "      <td>1</td>\n",
       "      <td>0</td>\n",
       "      <td>1</td>\n",
       "      <td>0</td>\n",
       "    </tr>\n",
       "    <tr>\n",
       "      <th>1</th>\n",
       "      <td>14500</td>\n",
       "      <td>3.0</td>\n",
       "      <td>9.0</td>\n",
       "      <td>4.0</td>\n",
       "      <td>15.0</td>\n",
       "      <td>5.0</td>\n",
       "      <td>2.753425</td>\n",
       "      <td>4.0</td>\n",
       "      <td>7.0</td>\n",
       "      <td>4.0</td>\n",
       "      <td>...</td>\n",
       "      <td>0</td>\n",
       "      <td>0</td>\n",
       "      <td>1</td>\n",
       "      <td>0</td>\n",
       "      <td>0</td>\n",
       "      <td>1</td>\n",
       "      <td>0</td>\n",
       "      <td>0</td>\n",
       "      <td>1</td>\n",
       "      <td>0</td>\n",
       "    </tr>\n",
       "    <tr>\n",
       "      <th>2</th>\n",
       "      <td>14640</td>\n",
       "      <td>4.0</td>\n",
       "      <td>13.0</td>\n",
       "      <td>4.0</td>\n",
       "      <td>12.0</td>\n",
       "      <td>2.0</td>\n",
       "      <td>3.832877</td>\n",
       "      <td>2.0</td>\n",
       "      <td>6.0</td>\n",
       "      <td>3.0</td>\n",
       "      <td>...</td>\n",
       "      <td>0</td>\n",
       "      <td>0</td>\n",
       "      <td>1</td>\n",
       "      <td>0</td>\n",
       "      <td>0</td>\n",
       "      <td>0</td>\n",
       "      <td>1</td>\n",
       "      <td>0</td>\n",
       "      <td>1</td>\n",
       "      <td>0</td>\n",
       "    </tr>\n",
       "    <tr>\n",
       "      <th>3</th>\n",
       "      <td>14500</td>\n",
       "      <td>3.0</td>\n",
       "      <td>16.0</td>\n",
       "      <td>4.0</td>\n",
       "      <td>14.0</td>\n",
       "      <td>8.0</td>\n",
       "      <td>3.334247</td>\n",
       "      <td>3.0</td>\n",
       "      <td>6.0</td>\n",
       "      <td>3.0</td>\n",
       "      <td>...</td>\n",
       "      <td>0</td>\n",
       "      <td>0</td>\n",
       "      <td>1</td>\n",
       "      <td>0</td>\n",
       "      <td>0</td>\n",
       "      <td>0</td>\n",
       "      <td>1</td>\n",
       "      <td>0</td>\n",
       "      <td>1</td>\n",
       "      <td>0</td>\n",
       "    </tr>\n",
       "    <tr>\n",
       "      <th>4</th>\n",
       "      <td>16790</td>\n",
       "      <td>5.0</td>\n",
       "      <td>13.0</td>\n",
       "      <td>5.0</td>\n",
       "      <td>13.0</td>\n",
       "      <td>7.0</td>\n",
       "      <td>3.586301</td>\n",
       "      <td>4.0</td>\n",
       "      <td>6.0</td>\n",
       "      <td>3.0</td>\n",
       "      <td>...</td>\n",
       "      <td>0</td>\n",
       "      <td>0</td>\n",
       "      <td>1</td>\n",
       "      <td>0</td>\n",
       "      <td>0</td>\n",
       "      <td>0</td>\n",
       "      <td>1</td>\n",
       "      <td>0</td>\n",
       "      <td>1</td>\n",
       "      <td>0</td>\n",
       "    </tr>\n",
       "    <tr>\n",
       "      <th>...</th>\n",
       "      <td>...</td>\n",
       "      <td>...</td>\n",
       "      <td>...</td>\n",
       "      <td>...</td>\n",
       "      <td>...</td>\n",
       "      <td>...</td>\n",
       "      <td>...</td>\n",
       "      <td>...</td>\n",
       "      <td>...</td>\n",
       "      <td>...</td>\n",
       "      <td>...</td>\n",
       "      <td>...</td>\n",
       "      <td>...</td>\n",
       "      <td>...</td>\n",
       "      <td>...</td>\n",
       "      <td>...</td>\n",
       "      <td>...</td>\n",
       "      <td>...</td>\n",
       "      <td>...</td>\n",
       "      <td>...</td>\n",
       "      <td>...</td>\n",
       "    </tr>\n",
       "    <tr>\n",
       "      <th>15914</th>\n",
       "      <td>39950</td>\n",
       "      <td>5.0</td>\n",
       "      <td>20.0</td>\n",
       "      <td>5.0</td>\n",
       "      <td>19.0</td>\n",
       "      <td>6.0</td>\n",
       "      <td>0.757361</td>\n",
       "      <td>2.0</td>\n",
       "      <td>6.0</td>\n",
       "      <td>4.0</td>\n",
       "      <td>...</td>\n",
       "      <td>0</td>\n",
       "      <td>0</td>\n",
       "      <td>0</td>\n",
       "      <td>1</td>\n",
       "      <td>0</td>\n",
       "      <td>0</td>\n",
       "      <td>1</td>\n",
       "      <td>0</td>\n",
       "      <td>1</td>\n",
       "      <td>0</td>\n",
       "    </tr>\n",
       "    <tr>\n",
       "      <th>15915</th>\n",
       "      <td>39885</td>\n",
       "      <td>5.0</td>\n",
       "      <td>23.0</td>\n",
       "      <td>5.0</td>\n",
       "      <td>19.0</td>\n",
       "      <td>5.0</td>\n",
       "      <td>0.915068</td>\n",
       "      <td>3.0</td>\n",
       "      <td>7.0</td>\n",
       "      <td>4.0</td>\n",
       "      <td>...</td>\n",
       "      <td>0</td>\n",
       "      <td>0</td>\n",
       "      <td>1</td>\n",
       "      <td>0</td>\n",
       "      <td>0</td>\n",
       "      <td>0</td>\n",
       "      <td>1</td>\n",
       "      <td>0</td>\n",
       "      <td>1</td>\n",
       "      <td>0</td>\n",
       "    </tr>\n",
       "    <tr>\n",
       "      <th>15916</th>\n",
       "      <td>39875</td>\n",
       "      <td>5.0</td>\n",
       "      <td>24.0</td>\n",
       "      <td>7.0</td>\n",
       "      <td>18.0</td>\n",
       "      <td>4.0</td>\n",
       "      <td>0.753425</td>\n",
       "      <td>1.0</td>\n",
       "      <td>6.0</td>\n",
       "      <td>4.0</td>\n",
       "      <td>...</td>\n",
       "      <td>1</td>\n",
       "      <td>0</td>\n",
       "      <td>0</td>\n",
       "      <td>1</td>\n",
       "      <td>0</td>\n",
       "      <td>0</td>\n",
       "      <td>1</td>\n",
       "      <td>0</td>\n",
       "      <td>1</td>\n",
       "      <td>0</td>\n",
       "    </tr>\n",
       "    <tr>\n",
       "      <th>15917</th>\n",
       "      <td>39700</td>\n",
       "      <td>5.0</td>\n",
       "      <td>10.0</td>\n",
       "      <td>7.0</td>\n",
       "      <td>12.0</td>\n",
       "      <td>4.0</td>\n",
       "      <td>0.501370</td>\n",
       "      <td>2.0</td>\n",
       "      <td>6.0</td>\n",
       "      <td>4.0</td>\n",
       "      <td>...</td>\n",
       "      <td>0</td>\n",
       "      <td>0</td>\n",
       "      <td>0</td>\n",
       "      <td>0</td>\n",
       "      <td>1</td>\n",
       "      <td>0</td>\n",
       "      <td>1</td>\n",
       "      <td>0</td>\n",
       "      <td>1</td>\n",
       "      <td>0</td>\n",
       "    </tr>\n",
       "    <tr>\n",
       "      <th>15918</th>\n",
       "      <td>40999</td>\n",
       "      <td>5.0</td>\n",
       "      <td>11.0</td>\n",
       "      <td>5.0</td>\n",
       "      <td>14.0</td>\n",
       "      <td>1.0</td>\n",
       "      <td>0.915068</td>\n",
       "      <td>2.0</td>\n",
       "      <td>6.0</td>\n",
       "      <td>4.0</td>\n",
       "      <td>...</td>\n",
       "      <td>0</td>\n",
       "      <td>0</td>\n",
       "      <td>0</td>\n",
       "      <td>1</td>\n",
       "      <td>0</td>\n",
       "      <td>0</td>\n",
       "      <td>1</td>\n",
       "      <td>1</td>\n",
       "      <td>0</td>\n",
       "      <td>0</td>\n",
       "    </tr>\n",
       "  </tbody>\n",
       "</table>\n",
       "<p>15919 rows × 72 columns</p>\n",
       "</div>"
      ],
      "text/plain": [
       "       price  Nr_of_Doors3  Comfort_point3  Nr_of_Seats3  Safety_point3  \\\n",
       "0      15770           5.0            16.0           5.0           14.0   \n",
       "1      14500           3.0             9.0           4.0           15.0   \n",
       "2      14640           4.0            13.0           4.0           12.0   \n",
       "3      14500           3.0            16.0           4.0           14.0   \n",
       "4      16790           5.0            13.0           5.0           13.0   \n",
       "...      ...           ...             ...           ...            ...   \n",
       "15914  39950           5.0            20.0           5.0           19.0   \n",
       "15915  39885           5.0            23.0           5.0           19.0   \n",
       "15916  39875           5.0            24.0           7.0           18.0   \n",
       "15917  39700           5.0            10.0           7.0           12.0   \n",
       "15918  40999           5.0            11.0           5.0           14.0   \n",
       "\n",
       "       Entertainment_point3      age3  Extras_point3  Gears3  Cylinders3  ...  \\\n",
       "0                       4.0  3.917808            3.0     6.0         3.0  ...   \n",
       "1                       5.0  2.753425            4.0     7.0         4.0  ...   \n",
       "2                       2.0  3.832877            2.0     6.0         3.0  ...   \n",
       "3                       8.0  3.334247            3.0     6.0         3.0  ...   \n",
       "4                       7.0  3.586301            4.0     6.0         3.0  ...   \n",
       "...                     ...       ...            ...     ...         ...  ...   \n",
       "15914                   6.0  0.757361            2.0     6.0         4.0  ...   \n",
       "15915                   5.0  0.915068            3.0     7.0         4.0  ...   \n",
       "15916                   4.0  0.753425            1.0     6.0         4.0  ...   \n",
       "15917                   4.0  0.501370            2.0     6.0         4.0  ...   \n",
       "15918                   1.0  0.915068            2.0     6.0         4.0  ...   \n",
       "\n",
       "       Body_Color3_White  Body_Color3_Yellow  Upholstery3_Cloth  \\\n",
       "0                      0                   0                  1   \n",
       "1                      0                   0                  1   \n",
       "2                      0                   0                  1   \n",
       "3                      0                   0                  1   \n",
       "4                      0                   0                  1   \n",
       "...                  ...                 ...                ...   \n",
       "15914                  0                   0                  0   \n",
       "15915                  0                   0                  1   \n",
       "15916                  1                   0                  0   \n",
       "15917                  0                   0                  0   \n",
       "15918                  0                   0                  0   \n",
       "\n",
       "       Upholstery3_Full leather  Upholstery3_Part leather  \\\n",
       "0                             0                         0   \n",
       "1                             0                         0   \n",
       "2                             0                         0   \n",
       "3                             0                         0   \n",
       "4                             0                         0   \n",
       "...                         ...                       ...   \n",
       "15914                         1                         0   \n",
       "15915                         0                         0   \n",
       "15916                         1                         0   \n",
       "15917                         0                         1   \n",
       "15918                         1                         0   \n",
       "\n",
       "       vat3_Price negotiable  vat3_VAT deductible  Drive_chain3_4WD  \\\n",
       "0                          0                    1                 0   \n",
       "1                          1                    0                 0   \n",
       "2                          0                    1                 0   \n",
       "3                          0                    1                 0   \n",
       "4                          0                    1                 0   \n",
       "...                      ...                  ...               ...   \n",
       "15914                      0                    1                 0   \n",
       "15915                      0                    1                 0   \n",
       "15916                      0                    1                 0   \n",
       "15917                      0                    1                 0   \n",
       "15918                      0                    1                 1   \n",
       "\n",
       "       Drive_chain3_front  Drive_chain3_rear  \n",
       "0                       1                  0  \n",
       "1                       1                  0  \n",
       "2                       1                  0  \n",
       "3                       1                  0  \n",
       "4                       1                  0  \n",
       "...                   ...                ...  \n",
       "15914                   1                  0  \n",
       "15915                   1                  0  \n",
       "15916                   1                  0  \n",
       "15917                   1                  0  \n",
       "15918                   0                  0  \n",
       "\n",
       "[15919 rows x 72 columns]"
      ]
     },
     "execution_count": 3,
     "metadata": {},
     "output_type": "execute_result"
    }
   ],
   "source": [
    "df"
   ]
  },
  {
   "cell_type": "code",
   "execution_count": 4,
   "metadata": {},
   "outputs": [
    {
     "data": {
      "text/plain": [
       "Index(['price', 'Nr_of_Doors3', 'Comfort_point3', 'Nr_of_Seats3',\n",
       "       'Safety_point3', 'Entertainment_point3', 'age3', 'Extras_point3',\n",
       "       'Gears3', 'Cylinders3', 'Consump_country3', 'Consump_city3',\n",
       "       'Consump_comb3', 'CO2_Emission3', 'Weight3', 'hp3', 'km3', 'make3_Audi',\n",
       "       'make3_Opel', 'make3_Renault', 'model3_A1', 'model3_A2', 'model3_A3',\n",
       "       'model3_Astra', 'model3_Clio', 'model3_Corsa', 'model3_Duster',\n",
       "       'model3_Espace', 'model3_Insignia', 'Gearing_Type3_Automatic',\n",
       "       'Gearing_Type3_Manual', 'Gearing_Type3_Semi-automatic', 'Fuel3_Diesel',\n",
       "       'Fuel3_Electric', 'Fuel3_Gasoline', 'Fuel3_LPG/CNG',\n",
       "       'Type3_Demonstration', 'Type3_Employee's car', 'Type3_New',\n",
       "       'Type3_Pre-registered', 'Type3_Used', 'body_type3_Compact',\n",
       "       'body_type3_Convertible', 'body_type3_Coupe', 'body_type3_Off-Road',\n",
       "       'body_type3_Other', 'body_type3_Sedans', 'body_type3_Station wagon',\n",
       "       'body_type3_Transporter', 'body_type3_Van', 'Body_Color3_Beige',\n",
       "       'Body_Color3_Black', 'Body_Color3_Blue', 'Body_Color3_Bronze',\n",
       "       'Body_Color3_Brown', 'Body_Color3_Gold', 'Body_Color3_Green',\n",
       "       'Body_Color3_Grey', 'Body_Color3_Orange', 'Body_Color3_Red',\n",
       "       'Body_Color3_Silver', 'Body_Color3_Violet', 'Body_Color3_White',\n",
       "       'Body_Color3_Yellow', 'Upholstery3_Cloth', 'Upholstery3_Full leather',\n",
       "       'Upholstery3_Part leather', 'vat3_Price negotiable',\n",
       "       'vat3_VAT deductible', 'Drive_chain3_4WD', 'Drive_chain3_front',\n",
       "       'Drive_chain3_rear'],\n",
       "      dtype='object')"
      ]
     },
     "execution_count": 4,
     "metadata": {},
     "output_type": "execute_result"
    }
   ],
   "source": [
    "df.columns"
   ]
  },
  {
   "cell_type": "code",
   "execution_count": 5,
   "metadata": {},
   "outputs": [],
   "source": [
    "#sns.pairplot(df)"
   ]
  },
  {
   "cell_type": "code",
   "execution_count": 8,
   "metadata": {},
   "outputs": [
    {
     "data": {
      "image/png": "[encoded data removed]",
      "text/plain": [
       "<Figure size 432x288 with 2 Axes>"
      ]
     },
     "metadata": {},
     "output_type": "display_data"
    }
   ],
   "source": [
    "sns.heatmap(df.corr(), annot=True);"
   ]
  },
  {
   "cell_type": "code",
   "execution_count": 9,
   "metadata": {},
   "outputs": [
    {
     "data": {
      "text/plain": [
       "Index(['Nr_of_Doors3', 'Comfort_point3', 'Nr_of_Seats3', 'Safety_point3',\n",
       "       'Entertainment_point3', 'age3', 'Extras_point3', 'Gears3', 'Cylinders3',\n",
       "       'Consump_country3', 'Consump_city3', 'Consump_comb3', 'CO2_Emission3',\n",
       "       'Weight3', 'hp3', 'km3', 'make3_Audi', 'make3_Opel', 'make3_Renault',\n",
       "       'model3_A1', 'model3_A2', 'model3_A3', 'model3_Astra', 'model3_Clio',\n",
       "       'model3_Corsa', 'model3_Duster', 'model3_Espace', 'model3_Insignia',\n",
       "       'Gearing_Type3_Automatic', 'Gearing_Type3_Manual',\n",
       "       'Gearing_Type3_Semi-automatic', 'Fuel3_Diesel', 'Fuel3_Electric',\n",
       "       'Fuel3_Gasoline', 'Fuel3_LPG/CNG', 'Type3_Demonstration',\n",
       "       'Type3_Employee's car', 'Type3_New', 'Type3_Pre-registered',\n",
       "       'Type3_Used', 'body_type3_Compact', 'body_type3_Convertible',\n",
       "       'body_type3_Coupe', 'body_type3_Off-Road', 'body_type3_Other',\n",
       "       'body_type3_Sedans', 'body_type3_Station wagon',\n",
       "       'body_type3_Transporter', 'body_type3_Van', 'Body_Color3_Beige',\n",
       "       'Body_Color3_Black', 'Body_Color3_Blue', 'Body_Color3_Bronze',\n",
       "       'Body_Color3_Brown', 'Body_Color3_Gold', 'Body_Color3_Green',\n",
       "       'Body_Color3_Grey', 'Body_Color3_Orange', 'Body_Color3_Red',\n",
       "       'Body_Color3_Silver', 'Body_Color3_Violet', 'Body_Color3_White',\n",
       "       'Body_Color3_Yellow', 'Upholstery3_Cloth', 'Upholstery3_Full leather',\n",
       "       'Upholstery3_Part leather', 'vat3_Price negotiable',\n",
       "       'vat3_VAT deductible', 'Drive_chain3_4WD', 'Drive_chain3_front',\n",
       "       'Drive_chain3_rear'],\n",
       "      dtype='object')"
      ]
     },
     "execution_count": 9,
     "metadata": {},
     "output_type": "execute_result"
    }
   ],
   "source": [
    "df.columns[1:]"
   ]
  },
  {
   "cell_type": "code",
   "execution_count": 10,
   "metadata": {},
   "outputs": [
    {
     "data": {
      "text/plain": [
       "(15919, 72)"
      ]
     },
     "execution_count": 10,
     "metadata": {},
     "output_type": "execute_result"
    }
   ],
   "source": [
    "df.shape"
   ]
  },
  {
   "cell_type": "code",
   "execution_count": 11,
   "metadata": {},
   "outputs": [],
   "source": [
    "column_list = list(df.columns[1:])"
   ]
  },
  {
   "cell_type": "code",
   "execution_count": 12,
   "metadata": {},
   "outputs": [
    {
     "data": {
      "text/plain": [
       "list"
      ]
     },
     "execution_count": 12,
     "metadata": {},
     "output_type": "execute_result"
    }
   ],
   "source": [
    "type(column_list)"
   ]
  },
  {
   "cell_type": "code",
   "execution_count": 13,
   "metadata": {},
   "outputs": [],
   "source": [
    "X = df[column_list]"
   ]
  },
  {
   "cell_type": "code",
   "execution_count": 14,
   "metadata": {},
   "outputs": [
    {
     "data": {
      "text/html": [
       "<div>\n",
       "<style scoped>\n",
       "    .dataframe tbody tr th:only-of-type {\n",
       "        vertical-align: middle;\n",
       "    }\n",
       "\n",
       "    .dataframe tbody tr th {\n",
       "        vertical-align: top;\n",
       "    }\n",
       "\n",
       "    .dataframe thead th {\n",
       "        text-align: right;\n",
       "    }\n",
       "</style>\n",
       "<table border=\"1\" class=\"dataframe\">\n",
       "  <thead>\n",
       "    <tr style=\"text-align: right;\">\n",
       "      <th></th>\n",
       "      <th>Nr_of_Doors3</th>\n",
       "      <th>Comfort_point3</th>\n",
       "      <th>Nr_of_Seats3</th>\n",
       "      <th>Safety_point3</th>\n",
       "      <th>Entertainment_point3</th>\n",
       "      <th>age3</th>\n",
       "      <th>Extras_point3</th>\n",
       "      <th>Gears3</th>\n",
       "      <th>Cylinders3</th>\n",
       "      <th>Consump_country3</th>\n",
       "      <th>...</th>\n",
       "      <th>Body_Color3_White</th>\n",
       "      <th>Body_Color3_Yellow</th>\n",
       "      <th>Upholstery3_Cloth</th>\n",
       "      <th>Upholstery3_Full leather</th>\n",
       "      <th>Upholstery3_Part leather</th>\n",
       "      <th>vat3_Price negotiable</th>\n",
       "      <th>vat3_VAT deductible</th>\n",
       "      <th>Drive_chain3_4WD</th>\n",
       "      <th>Drive_chain3_front</th>\n",
       "      <th>Drive_chain3_rear</th>\n",
       "    </tr>\n",
       "  </thead>\n",
       "  <tbody>\n",
       "    <tr>\n",
       "      <th>0</th>\n",
       "      <td>5.0</td>\n",
       "      <td>16.0</td>\n",
       "      <td>5.0</td>\n",
       "      <td>14.0</td>\n",
       "      <td>4.0</td>\n",
       "      <td>3.917808</td>\n",
       "      <td>3.0</td>\n",
       "      <td>6.0</td>\n",
       "      <td>3.0</td>\n",
       "      <td>3.8</td>\n",
       "      <td>...</td>\n",
       "      <td>0</td>\n",
       "      <td>0</td>\n",
       "      <td>1</td>\n",
       "      <td>0</td>\n",
       "      <td>0</td>\n",
       "      <td>0</td>\n",
       "      <td>1</td>\n",
       "      <td>0</td>\n",
       "      <td>1</td>\n",
       "      <td>0</td>\n",
       "    </tr>\n",
       "    <tr>\n",
       "      <th>1</th>\n",
       "      <td>3.0</td>\n",
       "      <td>9.0</td>\n",
       "      <td>4.0</td>\n",
       "      <td>15.0</td>\n",
       "      <td>5.0</td>\n",
       "      <td>2.753425</td>\n",
       "      <td>4.0</td>\n",
       "      <td>7.0</td>\n",
       "      <td>4.0</td>\n",
       "      <td>5.6</td>\n",
       "      <td>...</td>\n",
       "      <td>0</td>\n",
       "      <td>0</td>\n",
       "      <td>1</td>\n",
       "      <td>0</td>\n",
       "      <td>0</td>\n",
       "      <td>1</td>\n",
       "      <td>0</td>\n",
       "      <td>0</td>\n",
       "      <td>1</td>\n",
       "      <td>0</td>\n",
       "    </tr>\n",
       "    <tr>\n",
       "      <th>2</th>\n",
       "      <td>4.0</td>\n",
       "      <td>13.0</td>\n",
       "      <td>4.0</td>\n",
       "      <td>12.0</td>\n",
       "      <td>2.0</td>\n",
       "      <td>3.832877</td>\n",
       "      <td>2.0</td>\n",
       "      <td>6.0</td>\n",
       "      <td>3.0</td>\n",
       "      <td>3.8</td>\n",
       "      <td>...</td>\n",
       "      <td>0</td>\n",
       "      <td>0</td>\n",
       "      <td>1</td>\n",
       "      <td>0</td>\n",
       "      <td>0</td>\n",
       "      <td>0</td>\n",
       "      <td>1</td>\n",
       "      <td>0</td>\n",
       "      <td>1</td>\n",
       "      <td>0</td>\n",
       "    </tr>\n",
       "    <tr>\n",
       "      <th>3</th>\n",
       "      <td>3.0</td>\n",
       "      <td>16.0</td>\n",
       "      <td>4.0</td>\n",
       "      <td>14.0</td>\n",
       "      <td>8.0</td>\n",
       "      <td>3.334247</td>\n",
       "      <td>3.0</td>\n",
       "      <td>6.0</td>\n",
       "      <td>3.0</td>\n",
       "      <td>3.8</td>\n",
       "      <td>...</td>\n",
       "      <td>0</td>\n",
       "      <td>0</td>\n",
       "      <td>1</td>\n",
       "      <td>0</td>\n",
       "      <td>0</td>\n",
       "      <td>0</td>\n",
       "      <td>1</td>\n",
       "      <td>0</td>\n",
       "      <td>1</td>\n",
       "      <td>0</td>\n",
       "    </tr>\n",
       "    <tr>\n",
       "      <th>4</th>\n",
       "      <td>5.0</td>\n",
       "      <td>13.0</td>\n",
       "      <td>5.0</td>\n",
       "      <td>13.0</td>\n",
       "      <td>7.0</td>\n",
       "      <td>3.586301</td>\n",
       "      <td>4.0</td>\n",
       "      <td>6.0</td>\n",
       "      <td>3.0</td>\n",
       "      <td>4.1</td>\n",
       "      <td>...</td>\n",
       "      <td>0</td>\n",
       "      <td>0</td>\n",
       "      <td>1</td>\n",
       "      <td>0</td>\n",
       "      <td>0</td>\n",
       "      <td>0</td>\n",
       "      <td>1</td>\n",
       "      <td>0</td>\n",
       "      <td>1</td>\n",
       "      <td>0</td>\n",
       "    </tr>\n",
       "    <tr>\n",
       "      <th>...</th>\n",
       "      <td>...</td>\n",
       "      <td>...</td>\n",
       "      <td>...</td>\n",
       "      <td>...</td>\n",
       "      <td>...</td>\n",
       "      <td>...</td>\n",
       "      <td>...</td>\n",
       "      <td>...</td>\n",
       "      <td>...</td>\n",
       "      <td>...</td>\n",
       "      <td>...</td>\n",
       "      <td>...</td>\n",
       "      <td>...</td>\n",
       "      <td>...</td>\n",
       "      <td>...</td>\n",
       "      <td>...</td>\n",
       "      <td>...</td>\n",
       "      <td>...</td>\n",
       "      <td>...</td>\n",
       "      <td>...</td>\n",
       "      <td>...</td>\n",
       "    </tr>\n",
       "    <tr>\n",
       "      <th>15914</th>\n",
       "      <td>5.0</td>\n",
       "      <td>20.0</td>\n",
       "      <td>5.0</td>\n",
       "      <td>19.0</td>\n",
       "      <td>6.0</td>\n",
       "      <td>0.757361</td>\n",
       "      <td>2.0</td>\n",
       "      <td>6.0</td>\n",
       "      <td>4.0</td>\n",
       "      <td>5.3</td>\n",
       "      <td>...</td>\n",
       "      <td>0</td>\n",
       "      <td>0</td>\n",
       "      <td>0</td>\n",
       "      <td>1</td>\n",
       "      <td>0</td>\n",
       "      <td>0</td>\n",
       "      <td>1</td>\n",
       "      <td>0</td>\n",
       "      <td>1</td>\n",
       "      <td>0</td>\n",
       "    </tr>\n",
       "    <tr>\n",
       "      <th>15915</th>\n",
       "      <td>5.0</td>\n",
       "      <td>23.0</td>\n",
       "      <td>5.0</td>\n",
       "      <td>19.0</td>\n",
       "      <td>5.0</td>\n",
       "      <td>0.915068</td>\n",
       "      <td>3.0</td>\n",
       "      <td>7.0</td>\n",
       "      <td>4.0</td>\n",
       "      <td>7.1</td>\n",
       "      <td>...</td>\n",
       "      <td>0</td>\n",
       "      <td>0</td>\n",
       "      <td>1</td>\n",
       "      <td>0</td>\n",
       "      <td>0</td>\n",
       "      <td>0</td>\n",
       "      <td>1</td>\n",
       "      <td>0</td>\n",
       "      <td>1</td>\n",
       "      <td>0</td>\n",
       "    </tr>\n",
       "    <tr>\n",
       "      <th>15916</th>\n",
       "      <td>5.0</td>\n",
       "      <td>24.0</td>\n",
       "      <td>7.0</td>\n",
       "      <td>18.0</td>\n",
       "      <td>4.0</td>\n",
       "      <td>0.753425</td>\n",
       "      <td>1.0</td>\n",
       "      <td>6.0</td>\n",
       "      <td>4.0</td>\n",
       "      <td>5.3</td>\n",
       "      <td>...</td>\n",
       "      <td>1</td>\n",
       "      <td>0</td>\n",
       "      <td>0</td>\n",
       "      <td>1</td>\n",
       "      <td>0</td>\n",
       "      <td>0</td>\n",
       "      <td>1</td>\n",
       "      <td>0</td>\n",
       "      <td>1</td>\n",
       "      <td>0</td>\n",
       "    </tr>\n",
       "    <tr>\n",
       "      <th>15917</th>\n",
       "      <td>5.0</td>\n",
       "      <td>10.0</td>\n",
       "      <td>7.0</td>\n",
       "      <td>12.0</td>\n",
       "      <td>4.0</td>\n",
       "      <td>0.501370</td>\n",
       "      <td>2.0</td>\n",
       "      <td>6.0</td>\n",
       "      <td>4.0</td>\n",
       "      <td>5.3</td>\n",
       "      <td>...</td>\n",
       "      <td>0</td>\n",
       "      <td>0</td>\n",
       "      <td>0</td>\n",
       "      <td>0</td>\n",
       "      <td>1</td>\n",
       "      <td>0</td>\n",
       "      <td>1</td>\n",
       "      <td>0</td>\n",
       "      <td>1</td>\n",
       "      <td>0</td>\n",
       "    </tr>\n",
       "    <tr>\n",
       "      <th>15918</th>\n",
       "      <td>5.0</td>\n",
       "      <td>11.0</td>\n",
       "      <td>5.0</td>\n",
       "      <td>14.0</td>\n",
       "      <td>1.0</td>\n",
       "      <td>0.915068</td>\n",
       "      <td>2.0</td>\n",
       "      <td>6.0</td>\n",
       "      <td>4.0</td>\n",
       "      <td>6.8</td>\n",
       "      <td>...</td>\n",
       "      <td>0</td>\n",
       "      <td>0</td>\n",
       "      <td>0</td>\n",
       "      <td>1</td>\n",
       "      <td>0</td>\n",
       "      <td>0</td>\n",
       "      <td>1</td>\n",
       "      <td>1</td>\n",
       "      <td>0</td>\n",
       "      <td>0</td>\n",
       "    </tr>\n",
       "  </tbody>\n",
       "</table>\n",
       "<p>15919 rows × 71 columns</p>\n",
       "</div>"
      ],
      "text/plain": [
       "       Nr_of_Doors3  Comfort_point3  Nr_of_Seats3  Safety_point3  \\\n",
       "0               5.0            16.0           5.0           14.0   \n",
       "1               3.0             9.0           4.0           15.0   \n",
       "2               4.0            13.0           4.0           12.0   \n",
       "3               3.0            16.0           4.0           14.0   \n",
       "4               5.0            13.0           5.0           13.0   \n",
       "...             ...             ...           ...            ...   \n",
       "15914           5.0            20.0           5.0           19.0   \n",
       "15915           5.0            23.0           5.0           19.0   \n",
       "15916           5.0            24.0           7.0           18.0   \n",
       "15917           5.0            10.0           7.0           12.0   \n",
       "15918           5.0            11.0           5.0           14.0   \n",
       "\n",
       "       Entertainment_point3      age3  Extras_point3  Gears3  Cylinders3  \\\n",
       "0                       4.0  3.917808            3.0     6.0         3.0   \n",
       "1                       5.0  2.753425            4.0     7.0         4.0   \n",
       "2                       2.0  3.832877            2.0     6.0         3.0   \n",
       "3                       8.0  3.334247            3.0     6.0         3.0   \n",
       "4                       7.0  3.586301            4.0     6.0         3.0   \n",
       "...                     ...       ...            ...     ...         ...   \n",
       "15914                   6.0  0.757361            2.0     6.0         4.0   \n",
       "15915                   5.0  0.915068            3.0     7.0         4.0   \n",
       "15916                   4.0  0.753425            1.0     6.0         4.0   \n",
       "15917                   4.0  0.501370            2.0     6.0         4.0   \n",
       "15918                   1.0  0.915068            2.0     6.0         4.0   \n",
       "\n",
       "       Consump_country3  ...  Body_Color3_White  Body_Color3_Yellow  \\\n",
       "0                   3.8  ...                  0                   0   \n",
       "1                   5.6  ...                  0                   0   \n",
       "2                   3.8  ...                  0                   0   \n",
       "3                   3.8  ...                  0                   0   \n",
       "4                   4.1  ...                  0                   0   \n",
       "...                 ...  ...                ...                 ...   \n",
       "15914               5.3  ...                  0                   0   \n",
       "15915               7.1  ...                  0                   0   \n",
       "15916               5.3  ...                  1                   0   \n",
       "15917               5.3  ...                  0                   0   \n",
       "15918               6.8  ...                  0                   0   \n",
       "\n",
       "       Upholstery3_Cloth  Upholstery3_Full leather  Upholstery3_Part leather  \\\n",
       "0                      1                         0                         0   \n",
       "1                      1                         0                         0   \n",
       "2                      1                         0                         0   \n",
       "3                      1                         0                         0   \n",
       "4                      1                         0                         0   \n",
       "...                  ...                       ...                       ...   \n",
       "15914                  0                         1                         0   \n",
       "15915                  1                         0                         0   \n",
       "15916                  0                         1                         0   \n",
       "15917                  0                         0                         1   \n",
       "15918                  0                         1                         0   \n",
       "\n",
       "       vat3_Price negotiable  vat3_VAT deductible  Drive_chain3_4WD  \\\n",
       "0                          0                    1                 0   \n",
       "1                          1                    0                 0   \n",
       "2                          0                    1                 0   \n",
       "3                          0                    1                 0   \n",
       "4                          0                    1                 0   \n",
       "...                      ...                  ...               ...   \n",
       "15914                      0                    1                 0   \n",
       "15915                      0                    1                 0   \n",
       "15916                      0                    1                 0   \n",
       "15917                      0                    1                 0   \n",
       "15918                      0                    1                 1   \n",
       "\n",
       "       Drive_chain3_front  Drive_chain3_rear  \n",
       "0                       1                  0  \n",
       "1                       1                  0  \n",
       "2                       1                  0  \n",
       "3                       1                  0  \n",
       "4                       1                  0  \n",
       "...                   ...                ...  \n",
       "15914                   1                  0  \n",
       "15915                   1                  0  \n",
       "15916                   1                  0  \n",
       "15917                   1                  0  \n",
       "15918                   0                  0  \n",
       "\n",
       "[15919 rows x 71 columns]"
      ]
     },
     "execution_count": 14,
     "metadata": {},
     "output_type": "execute_result"
    }
   ],
   "source": [
    "X"
   ]
  },
  {
   "cell_type": "code",
   "execution_count": 15,
   "metadata": {},
   "outputs": [
    {
     "data": {
      "text/plain": [
       "(15919, 71)"
      ]
     },
     "execution_count": 15,
     "metadata": {},
     "output_type": "execute_result"
    }
   ],
   "source": [
    "X.shape"
   ]
  },
  {
   "cell_type": "code",
   "execution_count": 16,
   "metadata": {},
   "outputs": [
    {
     "data": {
      "text/plain": [
       "<matplotlib.axes._subplots.AxesSubplot at 0x1c53ecd8520>"
      ]
     },
     "execution_count": 16,
     "metadata": {},
     "output_type": "execute_result"
    },
    {
     "data": {
      "image/png": "[encoded data removed]",
      "text/plain": [
       "<Figure size 432x288 with 1 Axes>"
      ]
     },
     "metadata": {},
     "output_type": "display_data"
    }
   ],
   "source":[
    "sns.boxplot(df['price'], orient='v')"
   ]
  },
  {
   "cell_type": "code",
   "execution_count": 17,
   "metadata": {},
   "outputs": [
    {
     "data": {
      "text/plain": [
       "price                    160\n",
       "Nr_of_Doors3             160\n",
       "Comfort_point3           160\n",
       "Nr_of_Seats3             160\n",
       "Safety_point3            160\n",
       "                        ... \n",
       "vat3_Price negotiable    160\n",
       "vat3_VAT deductible      160\n",
       "Drive_chain3_4WD         160\n",
       "Drive_chain3_front       160\n",
       "Drive_chain3_rear        160\n",
       "Length: 72, dtype: int64"
      ]
     },
     "execution_count": 17,
     "metadata": {},
     "output_type": "execute_result"
    }
   ],
   "source": [
    "df[df['price']>40000].count() #/len(df)"
   ]
  },
  {
   "cell_type": "code",
   "execution_count": 18,
   "metadata": {},
   "outputs": [
    {
     "data": {
      "text/plain": [
       "count    15919.000000\n",
       "mean     18019.896727\n",
       "std       7386.169409\n",
       "min         13.000000\n",
       "25%      12850.000000\n",
       "50%      16900.000000\n",
       "75%      21900.000000\n",
       "max      74600.000000\n",
       "Name: price, dtype: float64"
      ]
     },
     "execution_count": 18,
     "metadata": {},
     "output_type": "execute_result"
    }
   ],
   "source": [
    "df['price'].describe()"
   ]
  },
  {
   "cell_type": "code",
   "execution_count": 20,
   "metadata": {},
   "outputs": [],
   "source": [
    "y = df['price']"
   ]
  },
  {
   "cell_type": "code",
   "execution_count": 21,
   "metadata": {},
   "outputs": [],
   "source": [
    "from sklearn.model_selection import train_test_split"
   ]
  },
  {
   "cell_type": "code",
   "execution_count": 22,
   "metadata": {},
   "outputs": [],
   "source": [
    "X_train, X_test, y_train, y_test = train_test_split(X, y, test_size=0.3, random_state=101)"
   ]
  },
  {
   "cell_type": "code",
   "execution_count": 23,
   "metadata": {},
   "outputs": [
    {
     "data": {
      "text/plain": [
       "(11143, 71)"
      ]
     },
     "execution_count": 23,
     "metadata": {},
     "output_type": "execute_result"
    }
   ],
   "source": [
    "X_train.shape"
   ]
  },
  {
   "cell_type": "code",
   "execution_count": 24,
   "metadata": {},
   "outputs": [
    {
     "data": {
      "text/plain": [
       "(11143,)"
      ]
     },
     "execution_count": 24,
     "metadata": {},
     "output_type": "execute_result"
    }
   ],
   "source": [
    "y_train.shape"
   ]
  },
  {
   "cell_type": "code",
   "execution_count": 25,
   "metadata": {},
   "outputs": [],
   "source": [
    "from sklearn.linear_model import LinearRegression"
   ]
  },
  {
   "cell_type": "markdown",
   "metadata": {},
   "source": [
    "# Different Models"
   ]
  },
  {
   "cell_type": "markdown",
   "metadata": {},
   "source": [
    "## 1.Linear Regression"
   ]
  },
  {
   "cell_type": "code",
   "execution_count": 29,
   "metadata": {},
   "outputs": [],
   "source": [
    "lm = LinearRegression()"
   ]
  },
  {
   "cell_type": "code",
   "execution_count": 30,
   "metadata": {},
   "outputs": [
    {
     "data": {
      "text/plain": [
       "LinearRegression()"
      ]
     },
     "execution_count": 30,
     "metadata": {},
     "output_type": "execute_result"
    }
   ],
   "source": [
    "lm.fit(X_train, y_train)"
   ]
  },
  {
   "cell_type": "code",
   "execution_count": 31,
   "metadata": {},
   "outputs": [
    {
     "data": {
      "text/plain": [
       "<matplotlib.axes._subplots.AxesSubplot at 0x1c540178eb0>"
      ]
     },
     "execution_count": 31,
     "metadata": {},
     "output_type": "execute_result"
    },
    {
     "data": {
      "image/png": "[encoded data removed]",
      "text/plain": [
       "<Figure size 432x288 with 1 Axes>"
      ]
     },
     "metadata": {},
     "output_type": "display_data"
    }
   ],
   "source": [
    "sns.distplot(df['price'])"
   ]
  },
  {
   "cell_type": "code",
   "execution_count": 32,
   "metadata": {},
   "outputs": [
    {
     "data": {
      "text/plain": [
       "count    15919.000000\n",
       "mean     18019.896727\n",
       "std       7386.169409\n",
       "min         13.000000\n",
       "25%      12850.000000\n",
       "50%      16900.000000\n",
       "75%      21900.000000\n",
       "max      74600.000000\n",
       "Name: price, dtype: float64"
      ]
     },
     "execution_count": 32,
     "metadata": {},
     "output_type": "execute_result"
    }
   ],
   "source": [
    "df['price'].describe()"
   ]
  },
  {
   "cell_type": "code",
   "execution_count": 33,
   "metadata": {},
   "outputs": [
    {
     "name": "stdout",
     "output_type": "stream",
     "text": [
      "11249.90988724576\n"
     ]
    }
   ],
   "source": [
    "print(lm.intercept_)"
   ]
  },
  {
   "cell_type": "code",
   "execution_count": 34,
   "metadata": {},
   "outputs": [
    {
     "data": {
      "text/plain": [
       "array([ 4.23413219e+02,  1.38742259e+02,  4.75915229e+01, -1.28305952e+01,\n",
       "       -1.60600106e+02, -1.59963937e+03, -5.78206224e+01,  6.34106738e+02,\n",
       "        3.17488715e+02,  6.85004302e+02,  9.10874851e+02, -8.70599403e+02,\n",
       "       -2.62121085e+01, -8.66269795e-01,  8.71131621e+01, -4.10642553e-02,\n",
       "        3.23116384e+03, -1.62319605e+03, -1.60796779e+03, -1.47856142e+03,\n",
       "        5.17034318e+03, -4.60617916e+02, -9.44909258e+02, -2.27901103e+03,\n",
       "       -2.30137863e+03, -5.53011398e+03,  6.20115722e+03,  1.62309183e+03,\n",
       "       -5.22431230e+02, -1.97798702e+03,  2.50041825e+03, -8.63320791e+02,\n",
       "        3.64204173e+03, -1.63406578e+03, -1.14465516e+03,  2.20276744e+03,\n",
       "       -1.42034402e+03,  9.62638358e+02, -7.13287750e+02, -1.03177402e+03,\n",
       "       -9.42627802e+02,  7.98834880e+03, -3.82798760e+02, -7.09837211e+02,\n",
       "       -1.77887847e+03, -8.37932828e+02, -7.19581341e+02, -2.99619588e+03,\n",
       "        3.79503492e+02,  3.35747914e+02,  1.32293915e+03,  1.27626629e+03,\n",
       "        2.17355571e+03,  5.08912533e+02, -1.00896632e+04,  7.56587013e+02,\n",
       "        1.50687676e+03, -3.64052059e+03,  1.16030894e+03,  9.97613554e+02,\n",
       "       -3.72561545e+02,  1.47840913e+03,  2.58552840e+03, -8.86924495e+02,\n",
       "        1.38938326e+03, -5.02458761e+02, -1.07870425e+02,  1.07870425e+02,\n",
       "        2.33652395e+03,  1.57433043e+01, -2.35226725e+03])"
      ]
     },
     "execution_count": 34,
     "metadata": {},
     "output_type": "execute_result"
    }
   ],
   "source": [
    "lm.coef_"
   ]
  },
  {
   "cell_type": "code",
   "execution_count": 35,
   "metadata": {},
   "outputs": [
    {
     "data": {
      "text/html": [
       "<div>\n",
       "<style scoped>\n",
       "    .dataframe tbody tr th:only-of-type {\n",
       "        vertical-align: middle;\n",
       "    }\n",
       "\n",
       "    .dataframe tbody tr th {\n",
       "        vertical-align: top;\n",
       "    }\n",
       "\n",
       "    .dataframe thead th {\n",
       "        text-align: right;\n",
       "    }\n",
       "</style>\n",
       "<table border=\"1\" class=\"dataframe\">\n",
       "  <thead>\n",
       "    <tr style=\"text-align: right;\">\n",
       "      <th></th>\n",
       "      <th>Coeff</th>\n",
       "    </tr>\n",
       "  </thead>\n",
       "  <tbody>\n",
       "    <tr>\n",
       "      <th>Nr_of_Doors3</th>\n",
       "      <td>423.413219</td>\n",
       "    </tr>\n",
       "    <tr>\n",
       "      <th>Comfort_point3</th>\n",
       "      <td>138.742259</td>\n",
       "    </tr>\n",
       "    <tr>\n",
       "      <th>Nr_of_Seats3</th>\n",
       "      <td>47.591523</td>\n",
       "    </tr>\n",
       "    <tr>\n",
       "      <th>Safety_point3</th>\n",
       "      <td>-12.830595</td>\n",
       "    </tr>\n",
       "    <tr>\n",
       "      <th>Entertainment_point3</th>\n",
       "      <td>-160.600106</td>\n",
       "    </tr>\n",
       "    <tr>\n",
       "      <th>...</th>\n",
       "      <td>...</td>\n",
       "    </tr>\n",
       "    <tr>\n",
       "      <th>vat3_Price negotiable</th>\n",
       "      <td>-107.870425</td>\n",
       "    </tr>\n",
       "    <tr>\n",
       "      <th>vat3_VAT deductible</th>\n",
       "      <td>107.870425</td>\n",
       "    </tr>\n",
       "    <tr>\n",
       "      <th>Drive_chain3_4WD</th>\n",
       "      <td>2336.523947</td>\n",
       "    </tr>\n",
       "    <tr>\n",
       "      <th>Drive_chain3_front</th>\n",
       "      <td>15.743304</td>\n",
       "    </tr>\n",
       "    <tr>\n",
       "      <th>Drive_chain3_rear</th>\n",
       "      <td>-2352.267251</td>\n",
       "    </tr>\n",
       "  </tbody>\n",
       "</table>\n",
       "<p>71 rows × 1 columns</p>\n",
       "</div>"
      ],
      "text/plain": [
       "                             Coeff\n",
       "Nr_of_Doors3            423.413219\n",
       "Comfort_point3          138.742259\n",
       "Nr_of_Seats3             47.591523\n",
       "Safety_point3           -12.830595\n",
       "Entertainment_point3   -160.600106\n",
       "...                            ...\n",
       "vat3_Price negotiable  -107.870425\n",
       "vat3_VAT deductible     107.870425\n",
       "Drive_chain3_4WD       2336.523947\n",
       "Drive_chain3_front       15.743304\n",
       "Drive_chain3_rear     -2352.267251\n",
       "\n",
       "[71 rows x 1 columns]"
      ]
     },
     "execution_count": 35,
     "metadata": {},
     "output_type": "execute_result"
    }
   ],
   "source": [
    "pd.DataFrame(lm.coef_, X.columns, columns= ['Coeff'])"
   ]
  },
  {
   "cell_type": "code",
   "execution_count": 36,
   "metadata": {},
   "outputs": [],
   "source": [
    "predictions = lm.predict(X_test)"
   ]
  },
  {
   "cell_type": "code",
   "execution_count": 37,
   "metadata": {},
   "outputs": [
    {
     "data": {
      "text/plain": [
       "array([21392.09800794, 17179.91965999, 13775.49050126, ...,\n",
       "       19917.47385498, 12653.39797519, 16585.90424142])"
      ]
     },
     "execution_count": 37,
     "metadata": {},
     "output_type": "execute_result"
    }
   ],
   "source": [
    "predictions"
   ]
  },
  {
   "cell_type": "code",
   "execution_count": 40,
   "metadata": {},
   "outputs": [
    {
     "data": {
      "image/png": "[encoded data removed]",
      "text/plain": [
       "<Figure size 432x288 with 1 Axes>"
      ]
     },
     "metadata": {},
     "output_type": "display_data"
    }
   ],
   "source": [
    "plt.scatter(y_test, predictions);"
   ]
  },
  {
   "cell_type": "code",
   "execution_count": 41,
   "metadata": {},
   "outputs": [
    {
     "data": {
      "image/png": "[encoded data removed]",
      "text/plain": [
       "<Figure size 432x288 with 1 Axes>"
      ]
     },
     "metadata": {},
     "output_type": "display_data"
    }
   ],
   "source": [
    "sns.distplot((y_test - predictions));"
   ]
  },
  {
   "cell_type": "code",
   "execution_count": 42,
   "metadata": {},
   "outputs": [],
   "source": [
    "from sklearn import metrics"
   ]
  },
  {
   "cell_type": "code",
   "execution_count": 43,
   "metadata": {},
   "outputs": [
    {
     "name": "stdout",
     "output_type": "stream",
     "text": [
      "MAE : 1884.8336725332165\n",
      "MSE : 7421743.869175531\n",
      "RMSE: 2724.2877728271533\n"
     ]
    }
   ],
   "source": [
    "print('MAE : {}'.format(metrics.mean_absolute_error(y_test, predictions)))\n",
    "print('MSE : {}'.format(metrics.mean_squared_error(y_test, predictions)))\n",
    "print('RMSE: {}'.format(np.sqrt(metrics.mean_squared_error(y_test, predictions))))"
   ]
  },
  {
   "cell_type": "code",
   "execution_count": 44,
   "metadata": {},
   "outputs": [
    {
     "data": {
      "text/plain": [
       "86.32045117116611"
      ]
     },
     "execution_count": 44,
     "metadata": {},
     "output_type": "execute_result"
    }
   ],
   "source": [
    "lm.score(X,y) * 100"
   ]
  },
  {
   "cell_type": "code",
   "execution_count": 45,
   "metadata": {},
   "outputs": [
    {
     "data": {
      "text/plain": [
       "86.48061173798249"
      ]
     },
     "execution_count": 45,
     "metadata": {},
     "output_type": "execute_result"
    }
   ],
   "source": [
    "lm.score(X_train,y_train) * 100"
   ]
  },
  {
   "cell_type": "code",
   "execution_count": 46,
   "metadata": {},
   "outputs": [
    {
     "data": {
      "text/plain": [
       "85.92217162837754"
      ]
     },
     "execution_count": 46,
     "metadata": {},
     "output_type": "execute_result"
    }
   ],
   "source": [
    "lm.score(X_test,y_test) * 100"
   ]
  },
  {
   "cell_type": "markdown",
   "metadata": {},
   "source": [
    "## 2. Random Forest"
   ]
  },
  {
   "cell_type": "code",
   "execution_count": 47,
   "metadata": {},
   "outputs": [],
   "source": [
    "from sklearn.ensemble import RandomForestRegressor\n",
    "from sklearn.metrics import confusion_matrix, accuracy_score, mean_squared_error, r2_score, roc_auc_score, roc_curve, classification_report, mean_absolute_error"
   ]
  },
  {
   "cell_type": "code",
   "execution_count": 48,
   "metadata": {},
   "outputs": [],
   "source": [
    "X_train, X_test, y_train, y_test = train_test_split(X,y,test_size=0.20,random_state=42)"
   ]
  },
  {
   "cell_type": "code",
   "execution_count": 49,
   "metadata": {},
   "outputs": [],
   "source": [
    "rf_model = RandomForestRegressor().fit(X_train, y_train)"
   ]
  },
  {
   "cell_type": "code",
   "execution_count": 50,
   "metadata": {},
   "outputs": [],
   "source": [
    "y_pred = rf_model.predict(X_test)"
   ]
  },
  {
   "cell_type": "code",
   "execution_count": 51,
   "metadata": {},
   "outputs": [],
   "source": [
    "def eval_metrics(actual, pred):\n",
    "    rmse = np.sqrt(mean_squared_error(actual, pred))\n",
    "    mae = mean_absolute_error(actual, pred)\n",
    "    mse = mean_squared_error(actual, pred)\n",
    "    score = r2_score(actual, pred)\n",
    "    return print(\"r2_score:\", score, \"\\n\",\"mae:\", mae, \"\\n\",\"mse:\",mse, \"\\n\",\"rmse:\",rmse)"
   ]
  },
  {
   "cell_type": "code",
   "execution_count": 52,
   "metadata": {},
   "outputs": [
    {
     "name": "stdout",
     "output_type": "stream",
     "text": [
      "r2_score: 0.9496035886706233 \n",
      " mae: 921.879302221336 \n",
      " mse: 2743814.6527340286 \n",
      " rmse: 1656.4463929551202\n"
     ]
    }
   ],
   "source": [
    "eval_metrics(y_test, y_pred)"
   ]
  },
  {
   "cell_type": "markdown",
   "metadata": {},
   "source": [
    "### Scaling Data"
   ]
  },
  {
   "cell_type": "code",
   "execution_count": 53,
   "metadata": {},
   "outputs": [],
   "source": [
    "from sklearn.preprocessing import scale, StandardScaler"
   ]
  },
  {
   "cell_type": "code",
   "execution_count": 54,
   "metadata": {},
   "outputs": [],
   "source": [
    "sc = StandardScaler()\n",
    "X_train_s = sc.fit_transform(X_train)\n",
    "X_test_s = sc.transform(X_test)"
   ]
  },
  {
   "cell_type": "code",
   "execution_count": 55,
   "metadata": {},
   "outputs": [],
   "source": [
    "rf_model_s = RandomForestRegressor().fit(X_train_s, y_train)"
   ]
  },
  {
   "cell_type": "code",
   "execution_count": 56,
   "metadata": {},
   "outputs": [],
   "source": [
    "y_pred_s = rf_model_s.predict(X_test_s)"
   ]
  },
  {
   "cell_type": "code",
   "execution_count": 57,
   "metadata": {},
   "outputs": [
    {
     "name": "stdout",
     "output_type": "stream",
     "text": [
      "r2_score: 0.9480746981442644 \n",
      " mae: 922.028850680688 \n",
      " mse: 2827054.5525203967 \n",
      " rmse: 1681.3847128246398\n"
     ]
    }
   ],
   "source": [
    "eval_metrics(y_test, y_pred_s)"
   ]
  },
  {
   "cell_type": "code",
   "execution_count": 58,
   "metadata": {},
   "outputs": [
    {
     "data": {
      "text/html": [
       "<div>\n",
       "<style scoped>\n",
       "    .dataframe tbody tr th:only-of-type {\n",
       "        vertical-align: middle;\n",
       "    }\n",
       "\n",
       "    .dataframe tbody tr th {\n",
       "        vertical-align: top;\n",
       "    }\n",
       "\n",
       "    .dataframe thead th {\n",
       "        text-align: right;\n",
       "    }\n",
       "</style>\n",
       "<table border=\"1\" class=\"dataframe\">\n",
       "  <thead>\n",
       "    <tr style=\"text-align: right;\">\n",
       "      <th></th>\n",
       "      <th>Nr_of_Doors3</th>\n",
       "      <th>Comfort_point3</th>\n",
       "      <th>Nr_of_Seats3</th>\n",
       "      <th>Safety_point3</th>\n",
       "      <th>Entertainment_point3</th>\n",
       "      <th>age3</th>\n",
       "      <th>Extras_point3</th>\n",
       "      <th>Gears3</th>\n",
       "      <th>Cylinders3</th>\n",
       "      <th>Consump_country3</th>\n",
       "      <th>...</th>\n",
       "      <th>Body_Color3_White</th>\n",
       "      <th>Body_Color3_Yellow</th>\n",
       "      <th>Upholstery3_Cloth</th>\n",
       "      <th>Upholstery3_Full leather</th>\n",
       "      <th>Upholstery3_Part leather</th>\n",
       "      <th>vat3_Price negotiable</th>\n",
       "      <th>vat3_VAT deductible</th>\n",
       "      <th>Drive_chain3_4WD</th>\n",
       "      <th>Drive_chain3_front</th>\n",
       "      <th>Drive_chain3_rear</th>\n",
       "    </tr>\n",
       "  </thead>\n",
       "  <tbody>\n",
       "    <tr>\n",
       "      <th>2879</th>\n",
       "      <td>5.0</td>\n",
       "      <td>14.0</td>\n",
       "      <td>5.0</td>\n",
       "      <td>17.0</td>\n",
       "      <td>6.0</td>\n",
       "      <td>3.753425</td>\n",
       "      <td>3.0</td>\n",
       "      <td>7.0</td>\n",
       "      <td>4.0</td>\n",
       "      <td>3.8</td>\n",
       "      <td>...</td>\n",
       "      <td>0</td>\n",
       "      <td>0</td>\n",
       "      <td>1</td>\n",
       "      <td>0</td>\n",
       "      <td>0</td>\n",
       "      <td>0</td>\n",
       "      <td>1</td>\n",
       "      <td>0</td>\n",
       "      <td>1</td>\n",
       "      <td>0</td>\n",
       "    </tr>\n",
       "    <tr>\n",
       "      <th>12881</th>\n",
       "      <td>5.0</td>\n",
       "      <td>6.0</td>\n",
       "      <td>5.0</td>\n",
       "      <td>6.0</td>\n",
       "      <td>5.0</td>\n",
       "      <td>0.753425</td>\n",
       "      <td>1.0</td>\n",
       "      <td>6.0</td>\n",
       "      <td>4.0</td>\n",
       "      <td>5.4</td>\n",
       "      <td>...</td>\n",
       "      <td>0</td>\n",
       "      <td>0</td>\n",
       "      <td>1</td>\n",
       "      <td>0</td>\n",
       "      <td>0</td>\n",
       "      <td>0</td>\n",
       "      <td>1</td>\n",
       "      <td>0</td>\n",
       "      <td>1</td>\n",
       "      <td>0</td>\n",
       "    </tr>\n",
       "    <tr>\n",
       "      <th>13148</th>\n",
       "      <td>5.0</td>\n",
       "      <td>8.0</td>\n",
       "      <td>5.0</td>\n",
       "      <td>10.0</td>\n",
       "      <td>5.0</td>\n",
       "      <td>1.583874</td>\n",
       "      <td>1.0</td>\n",
       "      <td>6.0</td>\n",
       "      <td>4.0</td>\n",
       "      <td>3.5</td>\n",
       "      <td>...</td>\n",
       "      <td>0</td>\n",
       "      <td>0</td>\n",
       "      <td>1</td>\n",
       "      <td>0</td>\n",
       "      <td>0</td>\n",
       "      <td>0</td>\n",
       "      <td>1</td>\n",
       "      <td>0</td>\n",
       "      <td>1</td>\n",
       "      <td>0</td>\n",
       "    </tr>\n",
       "    <tr>\n",
       "      <th>1665</th>\n",
       "      <td>5.0</td>\n",
       "      <td>13.0</td>\n",
       "      <td>5.0</td>\n",
       "      <td>16.0</td>\n",
       "      <td>6.0</td>\n",
       "      <td>1.501370</td>\n",
       "      <td>3.0</td>\n",
       "      <td>7.0</td>\n",
       "      <td>3.0</td>\n",
       "      <td>4.0</td>\n",
       "      <td>...</td>\n",
       "      <td>0</td>\n",
       "      <td>0</td>\n",
       "      <td>1</td>\n",
       "      <td>0</td>\n",
       "      <td>0</td>\n",
       "      <td>0</td>\n",
       "      <td>1</td>\n",
       "      <td>0</td>\n",
       "      <td>1</td>\n",
       "      <td>0</td>\n",
       "    </tr>\n",
       "    <tr>\n",
       "      <th>12147</th>\n",
       "      <td>5.0</td>\n",
       "      <td>17.0</td>\n",
       "      <td>5.0</td>\n",
       "      <td>15.0</td>\n",
       "      <td>5.0</td>\n",
       "      <td>0.757361</td>\n",
       "      <td>3.0</td>\n",
       "      <td>6.0</td>\n",
       "      <td>4.0</td>\n",
       "      <td>5.0</td>\n",
       "      <td>...</td>\n",
       "      <td>0</td>\n",
       "      <td>0</td>\n",
       "      <td>1</td>\n",
       "      <td>0</td>\n",
       "      <td>0</td>\n",
       "      <td>0</td>\n",
       "      <td>1</td>\n",
       "      <td>0</td>\n",
       "      <td>1</td>\n",
       "      <td>0</td>\n",
       "    </tr>\n",
       "  </tbody>\n",
       "</table>\n",
       "<p>5 rows × 71 columns</p>\n",
       "</div>"
      ],
      "text/plain": [
       "       Nr_of_Doors3  Comfort_point3  Nr_of_Seats3  Safety_point3  \\\n",
       "2879            5.0            14.0           5.0           17.0   \n",
       "12881           5.0             6.0           5.0            6.0   \n",
       "13148           5.0             8.0           5.0           10.0   \n",
       "1665            5.0            13.0           5.0           16.0   \n",
       "12147           5.0            17.0           5.0           15.0   \n",
       "\n",
       "       Entertainment_point3      age3  Extras_point3  Gears3  Cylinders3  \\\n",
       "2879                    6.0  3.753425            3.0     7.0         4.0   \n",
       "12881                   5.0  0.753425            1.0     6.0         4.0   \n",
       "13148                   5.0  1.583874            1.0     6.0         4.0   \n",
       "1665                    6.0  1.501370            3.0     7.0         3.0   \n",
       "12147                   5.0  0.757361            3.0     6.0         4.0   \n",
       "\n",
       "       Consump_country3  ...  Body_Color3_White  Body_Color3_Yellow  \\\n",
       "2879                3.8  ...                  0                   0   \n",
       "12881               5.4  ...                  0                   0   \n",
       "13148               3.5  ...                  0                   0   \n",
       "1665                4.0  ...                  0                   0   \n",
       "12147               5.0  ...                  0                   0   \n",
       "\n",
       "       Upholstery3_Cloth  Upholstery3_Full leather  Upholstery3_Part leather  \\\n",
       "2879                   1                         0                         0   \n",
       "12881                  1                         0                         0   \n",
       "13148                  1                         0                         0   \n",
       "1665                   1                         0                         0   \n",
       "12147                  1                         0                         0   \n",
       "\n",
       "       vat3_Price negotiable  vat3_VAT deductible  Drive_chain3_4WD  \\\n",
       "2879                       0                    1                 0   \n",
       "12881                      0                    1                 0   \n",
       "13148                      0                    1                 0   \n",
       "1665                       0                    1                 0   \n",
       "12147                      0                    1                 0   \n",
       "\n",
       "       Drive_chain3_front  Drive_chain3_rear  \n",
       "2879                    1                  0  \n",
       "12881                   1                  0  \n",
       "13148                   1                  0  \n",
       "1665                    1                  0  \n",
       "12147                   1                  0  \n",
       "\n",
       "[5 rows x 71 columns]"
      ]
     },
     "execution_count": 58,
     "metadata": {},
     "output_type": "execute_result"
    }
   ],
   "source": [
    "X_train.head()"
   ]
  },
  {
   "cell_type": "code",
   "execution_count": 59,
   "metadata": {},
   "outputs": [
    {
     "data": {
      "text/plain": [
       "array([[ 0.52828712,  0.2878983 ,  0.10281375,  1.06379665,  0.67478707,\n",
       "         1.59233889,  0.36925698,  1.70113719,  0.47097467, -1.23157939,\n",
       "        -1.19325955, -1.21824159, -1.16437636,  0.01240082, -0.28815172,\n",
       "         0.25630331,  1.33665705, -0.9217772 , -0.47134797, -0.44499939,\n",
       "         0.        ,  2.04115864, -0.43252808, -0.36442496, -0.39913425,\n",
       "        -0.04523046, -0.2582097 , -0.44347893,  1.08692122, -1.0240826 ,\n",
       "        -0.17489983,  1.08400371, -0.01535014, -1.07581486, -0.05954913,\n",
       "        -0.22698768, -0.26182393, -0.3389041 , -0.30502332,  0.65667381,\n",
       "        -0.49754491, -0.02345141, -0.03966037, -0.05888144, -0.13531892,\n",
       "         1.00117855, -0.53415821, -0.07645077, -0.23135288, -0.08530389,\n",
       "        -0.5723028 , -0.31641893, -0.0198185 , -0.13591942, -0.00886171,\n",
       "        -0.09753197,  1.8006032 , -0.01535014, -0.25051062, -0.34234962,\n",
       "        -0.03317442, -0.53500814, -0.05888144,  0.46586459, -0.30425376,\n",
       "        -0.32135035, -0.16386125,  0.16386125, -0.11421865,  0.11527235,\n",
       "        -0.01535014],\n",
       "       [ 0.52828712, -1.08979445,  0.10281375, -1.73216489,  0.1536267 ,\n",
       "        -1.17291148, -1.05422951,  0.19323839,  0.47097467,  0.67607808,\n",
       "         0.66124529,  0.67085291,  1.26388055,  1.24171143,  1.34742547,\n",
       "        -0.90832653, -0.74813506,  1.08486086, -0.47134797, -0.44499939,\n",
       "         0.        , -0.48991782, -0.43252808, -0.36442496, -0.39913425,\n",
       "        -0.04523046, -0.2582097 ,  2.25489858, -0.92002988,  0.97648373,\n",
       "        -0.17489983, -0.92250607, -0.01535014,  0.92952797, -0.05954913,\n",
       "        -0.22698768, -0.26182393, -0.3389041 , -0.30502332,  0.65667381,\n",
       "        -0.49754491, -0.02345141, -0.03966037, -0.05888144, -0.13531892,\n",
       "        -0.99882284,  1.87210453, -0.07645077, -0.23135288, -0.08530389,\n",
       "        -0.5723028 , -0.31641893, -0.0198185 , -0.13591942, -0.00886171,\n",
       "        -0.09753197,  1.8006032 , -0.01535014, -0.25051062, -0.34234962,\n",
       "        -0.03317442, -0.53500814, -0.05888144,  0.46586459, -0.30425376,\n",
       "        -0.32135035, -0.16386125,  0.16386125, -0.11421865,  0.11527235,\n",
       "        -0.01535014]])"
      ]
     },
     "execution_count": 59,
     "metadata": {},
     "output_type": "execute_result"
    }
   ],
   "source": [
    "X_train_s[:2]"
   ]
  },
  {
   "cell_type": "markdown",
   "metadata": {},
   "source": [
    "## 3. XGBOOST"
   ]
  },
  {
   "cell_type": "code",
   "execution_count": 61,
   "metadata": {},
   "outputs": [],
   "source": [
    "from xgboost import XGBRegressor"
   ]
  },
  {
   "cell_type": "code",
   "execution_count": 62,
   "metadata": {},
   "outputs": [],
   "source": [
    "xgb_model = XGBRegressor().fit(X_train_s, y_train)"
   ]
  },
  {
   "cell_type": "code",
   "execution_count": 63,
   "metadata": {},
   "outputs": [],
   "source": [
    "y_pred = xgb_model.predict(X_test_s)"
   ]
  },
  {
   "cell_type": "code",
   "execution_count": 64,
   "metadata": {},
   "outputs": [
    {
     "name": "stdout",
     "output_type": "stream",
     "text": [
      "r2_score: 0.9495513232731452 \n",
      " mae: 989.9991400637219 \n",
      " mse: 2746660.223671495 \n",
      " rmse: 1657.3051088051031\n"
     ]
    }
   ],
   "source": [
    "eval_metrics(y_test, y_pred)"
   ]
  },
  {
   "cell_type": "markdown",
   "metadata": {},
   "source": [
    "### GridSearch"
   ]
  },
  {
   "cell_type": "code",
   "execution_count": 66,
   "metadata": {},
   "outputs": [],
   "source": [
    "from sklearn.model_selection import train_test_split, GridSearchCV, cross_val_score"
   ]
  },
  {
   "cell_type": "code",
   "execution_count": 75,
   "metadata": {},
   "outputs": [],
   "source": [
    "xgb_params = {\"n_estimators\": [500,1000],\n",
    "             \"subsample\":[0.1,0.5],\n",
    "             \"max_depth\":[10, 30],\n",
    "             \"learning_rate\":[0.1,0.01]}"
   ]
  },
  {
   "cell_type": "code",
   "execution_count": 76,
   "metadata": {},
   "outputs": [
    {
     "name": "stdout",
     "output_type": "stream",
     "text": [
      "Fitting 5 folds for each of 16 candidates, totalling 80 fits\n"
     ]
    },
    {
     "name": "stderr",
     "output_type": "stream",
     "text": [
      "[Parallel(n_jobs=-1)]: Using backend LokyBackend with 8 concurrent workers.\n",
      "[Parallel(n_jobs=-1)]: Done  25 tasks      | elapsed:  3.8min\n",
      "[Parallel(n_jobs=-1)]: Done  80 out of  80 | elapsed: 17.0min finished\n"
     ]
    }
   ],
   "source": [
    "xgb_cv_model = GridSearchCV(xgb_model, xgb_params, cv = 5,\n",
    "                            n_jobs = -1, verbose = 2).fit(X_train, y_train)"
   ]
  },
  {
   "cell_type": "code",
   "execution_count": 77,
   "metadata": {},
   "outputs": [
    {
     "data": {
      "text/plain": [
       "{'learning_rate': 0.01,\n",
       " 'max_depth': 30,\n",
       " 'n_estimators': 1000,\n",
       " 'subsample': 0.5}"
      ]
     },
     "execution_count": 77,
     "metadata": {},
     "output_type": "execute_result"
    }
   ],
   "source": [
    "xgb_cv_model.best_params_"
   ]
  },
  {
   "cell_type": "code",
   "execution_count": 78,
   "metadata": {},
   "outputs": [
    {
     "name": "stdout",
     "output_type": "stream",
     "text": [
      "r2_score: 0.9613465281631464 \n",
      " mae: 827.4962668874156 \n",
      " mse: 2104474.4974366557 \n",
      " rmse: 1450.6807014076721\n"
     ]
    }
   ],
   "source": [
    "xgb_tuned = XGBRegressor(learning_rate= 0.01,\n",
    "                                max_depth= 30,\n",
    "                                n_estimators= 1000,\n",
    "                                subsample= .5, booster='dart').fit(X_train, y_train)\n",
    "y_pred = xgb_tuned.predict(X_test)\n",
    "eval_metrics(y_test, y_pred)"
   ]
  },
  {
   "cell_type": "markdown",
   "metadata": {},
   "source": [
    "## PCA"
   ]
  },
  {
   "cell_type": "code",
   "execution_count": 81,
   "metadata": {},
   "outputs": [],
   "source": [
    "sc = StandardScaler()\n",
    "X = sc.fit_transform(X)\n",
    "#X_test_s = sc.transform(X)"
   ]
  },
  {
   "cell_type": "code",
   "execution_count": 82,
   "metadata": {},
   "outputs": [],
   "source": [
    "X_train, X_test, y_train, y_test = train_test_split(X, y, test_size=0.3, random_state=101)"
   ]
  },
  {
   "cell_type": "code",
   "execution_count": 83,
   "metadata": {},
   "outputs": [],
   "source": [
    "from sklearn.decomposition import PCA"
   ]
  },
  {
   "cell_type": "code",
   "execution_count": 84,
   "metadata": {},
   "outputs": [
    {
     "name": "stdout",
     "output_type": "stream",
     "text": [
      "(15919, 2)\n",
      "[[-3.1751009   2.17172895]\n",
      " [-0.05333761  0.03706185]]\n"
     ]
    }
   ],
   "source": [
    "pca = PCA(n_components=2)\n",
    "pca.fit(X)\n",
    "X_pca = pca.transform(X)\n",
    "print(X_pca.shape)\n",
    "print(X_pca[:2])"
   ]
  },
  {
   "cell_type": "code",
   "execution_count": 85,
   "metadata": {},
   "outputs": [
    {
     "data": {
      "text/plain": [
       "array([0.10440129, 0.1809059 ])"
      ]
     },
     "execution_count": 85,
     "metadata": {},
     "output_type": "execute_result"
    }
   ],
   "source": [
    "pca.explained_variance_ratio_.cumsum()"
   ]
  },
  {
   "cell_type": "code",
   "execution_count": 87,
   "metadata": {},
   "outputs": [
    {
     "data": {
      "text/plain": [
       "Text(0, 0.5, 'Variance Ratio')"
      ]
     },
     "execution_count": 87,
     "metadata": {},
     "output_type": "execute_result"
    },
    {
     "data": {
      "image/png": "[encoded data removed]",
      "text/plain": [
       "<Figure size 432x288 with 1 Axes>"
      ]
     },
     "metadata": {},
     "output_type": "display_data"
    }
   ],
   "source": [
    "pca = PCA().fit(X)\n",
    "x = range(1,72)\n",
    "plt.plot(x,np.cumsum(pca.explained_variance_ratio_))\n",
    "plt.xlabel('Component Count')\n",
    "plt.ylabel('Variance Ratio')"
   ]
  }
 ],
 "metadata": {
  "kernelspec": {
   "display_name": "Python 3",
   "language": "python",
   "name": "python3"
  },
  "language_info": {
   "codemirror_mode": {
    "name": "ipython",
    "version": 3
   },
   "file_extension": ".py",
   "mimetype": "text/x-python",
   "name": "python",
   "nbconvert_exporter": "python",
   "pygments_lexer": "ipython3",
   "version": "3.8.3"
  }
 },
 "nbformat": 4,
 "nbformat_minor": 4
}
